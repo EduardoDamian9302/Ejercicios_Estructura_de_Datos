{
  "nbformat": 4,
  "nbformat_minor": 0,
  "metadata": {
    "colab": {
      "name": "recursividad_basica_1310.ipynb",
      "provenance": [],
      "collapsed_sections": [],
      "authorship_tag": "ABX9TyNiD+4Q5MLhSkEErFvuACnU",
      "include_colab_link": true
    },
    "kernelspec": {
      "name": "python3",
      "display_name": "Python 3"
    },
    "language_info": {
      "name": "python"
    }
  },
  "cells": [
    {
      "cell_type": "markdown",
      "metadata": {
        "id": "view-in-github",
        "colab_type": "text"
      },
      "source": [
        "<a href=\"https://colab.research.google.com/github/EduardoDamian9302/Ejercicios_Estructura_de_Datos/blob/main/recursividad_basica_1310.ipynb\" target=\"_parent\"><img src=\"https://colab.research.google.com/assets/colab-badge.svg\" alt=\"Open In Colab\"/></a>"
      ]
    },
    {
      "cell_type": "code",
      "metadata": {
        "id": "b93PrSfNQ-On"
      },
      "source": [
        " def factorial( n ):\n",
        "     if n == 0:\n",
        "       return 1\n",
        "     else:\n",
        "       return n * factorial( n - 1)  "
      ],
      "execution_count": 17,
      "outputs": []
    },
    {
      "cell_type": "code",
      "metadata": {
        "id": "6uelWDZISZQ-",
        "colab": {
          "base_uri": "https://localhost:8080/"
        },
        "outputId": "3c213ede-0583-4dd5-b28f-c04171b15c9e"
      },
      "source": [
        "x = 6\n",
        "\n",
        "resultado = factorial( x )\n",
        "\n",
        "print( f'El factorial de { x } es {resultado}')"
      ],
      "execution_count": 9,
      "outputs": [
        {
          "output_type": "stream",
          "name": "stdout",
          "text": [
            "El factorial de 6 es 720\n"
          ]
        }
      ]
    },
    {
      "cell_type": "code",
      "metadata": {
        "id": "8K2z8a4aUefb"
      },
      "source": [
        "def printRev( n ):\n",
        "    if n > 0 :\n",
        "        print( n )\n",
        "        printRev( n - 1 )\n",
        "    if n == 0:\n",
        "        print( f'BOOOMMM!!!')        "
      ],
      "execution_count": 18,
      "outputs": []
    },
    {
      "cell_type": "code",
      "metadata": {
        "id": "L1ayKwueVUfM",
        "colab": {
          "base_uri": "https://localhost:8080/"
        },
        "outputId": "073ed68f-0a2f-411d-83cc-b2e43ab94b2f"
      },
      "source": [
        "printRev( 3 )"
      ],
      "execution_count": 11,
      "outputs": [
        {
          "output_type": "stream",
          "name": "stdout",
          "text": [
            "3\n",
            "2\n",
            "1\n",
            "BOOOMMM!!!\n"
          ]
        }
      ]
    },
    {
      "cell_type": "code",
      "metadata": {
        "id": "g3yMnLw9XRbe"
      },
      "source": [
        "def printRev( n ):\n",
        "    if n > 0 :\n",
        "        printRev( n - 1 )\n",
        "        print ( n )"
      ],
      "execution_count": 14,
      "outputs": []
    },
    {
      "cell_type": "code",
      "metadata": {
        "colab": {
          "base_uri": "https://localhost:8080/"
        },
        "id": "pAiBpdjrXi9C",
        "outputId": "460d3a2f-547f-413e-ed43-b83186077ad8"
      },
      "source": [
        "printRev( 3 )"
      ],
      "execution_count": 15,
      "outputs": [
        {
          "output_type": "stream",
          "name": "stdout",
          "text": [
            "1\n",
            "2\n",
            "3\n"
          ]
        }
      ]
    }
  ]
}