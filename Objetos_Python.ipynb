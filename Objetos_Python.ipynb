{
  "nbformat": 4,
  "nbformat_minor": 0,
  "metadata": {
    "colab": {
      "name": "Objetos_Python.ipynb",
      "provenance": [],
      "authorship_tag": "ABX9TyMVSv8WtK3t2PsgKQbBtCPy",
      "include_colab_link": true
    },
    "kernelspec": {
      "name": "python3",
      "display_name": "Python 3"
    },
    "language_info": {
      "name": "python"
    }
  },
  "cells": [
    {
      "cell_type": "markdown",
      "metadata": {
        "id": "view-in-github",
        "colab_type": "text"
      },
      "source": [
        "<a href=\"https://colab.research.google.com/github/EduardoDamian9302/Ejercicios_Estructura_de_Datos/blob/main/Objetos_Python.ipynb\" target=\"_parent\"><img src=\"https://colab.research.google.com/assets/colab-badge.svg\" alt=\"Open In Colab\"/></a>"
      ]
    },
    {
      "cell_type": "code",
      "metadata": {
        "id": "P92aUhUZuqmj"
      },
      "source": [
        "class Persona:\n",
        "    def __init__( self, n , e , est ):\n",
        "        self.__nombre = n\n",
        "        self.__edad = e\n",
        "        self.__estatura = est\n",
        "    def to_string( self ):\n",
        "        return \"Nombre:\" + self.__nombre +\" Edad: \"+ str(self.__edad) +\" Estatura \"+ str(self.__estatura)\n",
        "    def set_estatura( self , nueva_est):\n",
        "        if nueva_est > 0.10 and nueva_est < 2.5 :\n",
        "            self.__estatura=nueva_est\n",
        "        else:\n",
        "            print(\"Esa estatura no es posible\")\n",
        "    def get_estatura( self ):\n",
        "        return self.__estatura                  "
      ],
      "execution_count": 15,
      "outputs": []
    },
    {
      "cell_type": "code",
      "metadata": {
        "colab": {
          "base_uri": "https://localhost:8080/"
        },
        "id": "K3Mc_48evitO",
        "outputId": "1657e1a6-a00e-4ed9-b278-e0d9a5439aa3"
      },
      "source": [
        "per = Persona(\"Jose\", 18, 1.70)\n",
        "print(per.to_string())\n",
        "\n",
        "#Encapsulamiento\n",
        "\n",
        "per.nombre = \"Pedro\" #Esto no se hace\n",
        "print(per.to_string())\n",
        "\n",
        "#per.estatura = 3.9\n",
        "per.set_estatura(1.9)\n",
        "print(per.to_string())\n",
        "\n",
        "print(\"Estatura:\" , end=\"\")\n",
        "#print(per.__estatura)\n",
        "print(per.get_estatura())"
      ],
      "execution_count": 12,
      "outputs": [
        {
          "output_type": "stream",
          "name": "stdout",
          "text": [
            "Nombre:Jose Edad: 18 Estatura 1.7\n",
            "Nombre:Jose Edad: 18 Estatura 1.7\n",
            "Nombre:Jose Edad: 18 Estatura 1.9\n",
            "Estatura:1.9\n"
          ]
        }
      ]
    },
    {
      "cell_type": "code",
      "metadata": {
        "id": "6MWwf8NnzpL7"
      },
      "source": [
        "class Estudiante( Persona ):\n",
        "    def __init__(self , nc , nombre , edad , est):\n",
        "        self.__num_cta = nc\n",
        "        super().__init__(nombre, edad, est)\n",
        "    def to_string( self):\n",
        "        return str(super().get_estatura()) + \" - \" + self.__num_cta    "
      ],
      "execution_count": 20,
      "outputs": []
    },
    {
      "cell_type": "code",
      "metadata": {
        "colab": {
          "base_uri": "https://localhost:8080/"
        },
        "id": "yHP5Ngxg0IdB",
        "outputId": "58a4bbdb-97f0-430a-e3fc-ef213a78fc41"
      },
      "source": [
        "est = Estudiante(\"Jose\",18,1.60, \"2120212021\")\n",
        "print(est.to_string())"
      ],
      "execution_count": 22,
      "outputs": [
        {
          "output_type": "stream",
          "name": "stdout",
          "text": [
            "2120212021 - Jose\n"
          ]
        }
      ]
    }
  ]
}