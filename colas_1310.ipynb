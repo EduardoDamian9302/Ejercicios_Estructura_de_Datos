{
  "nbformat": 4,
  "nbformat_minor": 0,
  "metadata": {
    "colab": {
      "name": "colas_1310.ipynb",
      "provenance": [],
      "collapsed_sections": [],
      "authorship_tag": "ABX9TyPgB/FjfA/PjsGhfYaDnPZD",
      "include_colab_link": true
    },
    "kernelspec": {
      "name": "python3",
      "display_name": "Python 3"
    },
    "language_info": {
      "name": "python"
    }
  },
  "cells": [
    {
      "cell_type": "markdown",
      "metadata": {
        "id": "view-in-github",
        "colab_type": "text"
      },
      "source": [
        "<a href=\"https://colab.research.google.com/github/EduardoDamian9302/Ejercicios_Estructura_de_Datos/blob/main/colas_1310.ipynb\" target=\"_parent\"><img src=\"https://colab.research.google.com/assets/colab-badge.svg\" alt=\"Open In Colab\"/></a>"
      ]
    },
    {
      "cell_type": "code",
      "metadata": {
        "id": "2MqoL9_PJ-pZ"
      },
      "source": [
        "class PriorityQueue:\n",
        "    def __init__( self ):\n",
        "        self.data = []\n",
        "\n",
        "    def is_empty( self ):\n",
        "        return len( self.data ) == 0\n",
        "\n",
        "    def length( self ):\n",
        "        return len( self.data )        \n",
        "\n",
        "    def enqueue( self , value ):\n",
        "        self.data.append( value )\n",
        "\n",
        "    def dequeue( self ):\n",
        "        return self.data.pop(0)\n",
        "\n",
        "    def to_string( self ):\n",
        "        for elem in self.data: \n",
        "            print(f\"|{ elem }| <--\" , end=\"\" )            \n",
        "        print(\"\")\n",
        "\n",
        "    def delete(self):\n",
        "        try:\n",
        "            max = 0\n",
        "            for i in range(len(self.data)):\n",
        "                if self.data[i] > self.data[max]:\n",
        "                    max = i\n",
        "            item = self.data[max]\n",
        "            del self.data[max]\n",
        "            return item\n",
        "        except IndexError:\n",
        "            print()\n",
        "            exit()            "
      ],
      "execution_count": 105,
      "outputs": []
    },
    {
      "cell_type": "code",
      "metadata": {
        "colab": {
          "base_uri": "https://localhost:8080/"
        },
        "id": "Z_NPLb4QNwcG",
        "outputId": "46bab141-1e45-491e-f8dc-2e33a7c09e31"
      },
      "source": [
        "cola = PriorityQueue()\n",
        "print(\"Esta vacio??: \" , cola.is_empty())\n",
        "print(\"numero de elementos: \" , cola.length())\n",
        "cola.enqueue(1 )\n",
        "cola.enqueue(4 )\n",
        "cola.enqueue( 2 )\n",
        "print(\"Esta vacio?: \" , cola.is_empty())\n",
        "print(\"Numero de elementos: \" , cola.length())\n",
        "cola.enqueue(3 )\n",
        "cola.enqueue(5 )\n",
        "cola.enqueue(6  )\n",
        "cola.to_string()\n",
        "siguiente = cola.dequeue()\n",
        "print(\"Atendiendo a :\" , siguiente)\n",
        "cola.to_string()\n",
        "while not cola.is_empty():\n",
        "        print(cola.delete())"
      ],
      "execution_count": 107,
      "outputs": [
        {
          "output_type": "stream",
          "name": "stdout",
          "text": [
            "Esta vacio??:  True\n",
            "numero de elementos:  0\n",
            "Esta vacio?:  False\n",
            "Numero de elementos:  3\n",
            "|1| <--|4| <--|2| <--|3| <--|5| <--|6| <--\n",
            "Atendiendo a : 1\n",
            "|4| <--|2| <--|3| <--|5| <--|6| <--\n",
            "6\n",
            "5\n",
            "4\n",
            "3\n",
            "2\n"
          ]
        }
      ]
    },
    {
      "cell_type": "code",
      "metadata": {
        "id": "uhIfEfql4v78"
      },
      "source": [
        "class BoundedPriorityQueue:\n",
        "    def __init__( self , niveles ):\n",
        "        self.data = [PriorityQueue() for x in range(niveles)]\n",
        "        self.size = 0\n",
        "        self.niveles = niveles\n",
        "\n",
        "    def is_empty( self ):\n",
        "        return len( self.data ) == 0\n",
        "\n",
        "    def length( self ):\n",
        "        return len( self.data )        \n",
        "\n",
        "    def enqueue( self , value ):\n",
        "        self.data.append( value )\n",
        "\n",
        "    def dequeue( self ):\n",
        "        return self.data.pop(0)\n",
        "\n",
        "    def to_string( self ):\n",
        "        for elem in range (self.niveles): \n",
        "            print(f\"|{ elem }| <--\" , end=\"\" )            \n",
        "        print(\"\")\n",
        "\n",
        "    def delete(self):\n",
        "        try:\n",
        "            max = 0\n",
        "            for i in range(len(self.data)):\n",
        "                if self.data[i] > self.data[max]:\n",
        "                    max = i\n",
        "            item = self.data[max]\n",
        "            del self.data[max]\n",
        "            return item\n",
        "        except IndexError:\n",
        "            print()\n",
        "            exit() "
      ],
      "execution_count": 111,
      "outputs": []
    },
    {
      "cell_type": "code",
      "metadata": {
        "colab": {
          "base_uri": "https://localhost:8080/"
        },
        "id": "88H6fDd_YJiY",
        "outputId": "28ad6691-655b-46ef-8bb1-3c0ea60e2888"
      },
      "source": [
        "cola1 = BoundedPriorityQueue(6)\n",
        "print(\"Esta vacio??: \" , cola.is_empty())\n",
        "print(\"numero de elementos: \" , cola.length())\n",
        "cola1.enqueue(1 )\n",
        "cola1.enqueue(4 )\n",
        "cola1.enqueue( 2 )\n",
        "print(\"Esta vacio?: \" , cola.is_empty())\n",
        "print(\"Numero de elementos: \" , cola.length())\n",
        "cola1.enqueue(3 )\n",
        "cola1.enqueue(5 )\n",
        "cola1.enqueue(6  )\n",
        "cola1.to_string()"
      ],
      "execution_count": 112,
      "outputs": [
        {
          "output_type": "stream",
          "name": "stdout",
          "text": [
            "Esta vacio??:  True\n",
            "numero de elementos:  0\n",
            "Esta vacio?:  True\n",
            "Numero de elementos:  0\n",
            "|0| <--|1| <--|2| <--|3| <--|4| <--|5| <--\n"
          ]
        }
      ]
    }
  ]
}