{
  "nbformat": 4,
  "nbformat_minor": 0,
  "metadata": {
    "colab": {
      "name": "colas_1310.ipynb",
      "provenance": [],
      "authorship_tag": "ABX9TyPP7CXm3B8PHisICYp2DuHw",
      "include_colab_link": true
    },
    "kernelspec": {
      "name": "python3",
      "display_name": "Python 3"
    },
    "language_info": {
      "name": "python"
    }
  },
  "cells": [
    {
      "cell_type": "markdown",
      "metadata": {
        "id": "view-in-github",
        "colab_type": "text"
      },
      "source": [
        "<a href=\"https://colab.research.google.com/github/EduardoDamian9302/Ejercicios_Estructura_de_Datos/blob/main/colas_1310.ipynb\" target=\"_parent\"><img src=\"https://colab.research.google.com/assets/colab-badge.svg\" alt=\"Open In Colab\"/></a>"
      ]
    },
    {
      "cell_type": "code",
      "metadata": {
        "id": "2MqoL9_PJ-pZ"
      },
      "source": [
        "class Queue:\n",
        "    def __init__( self ):\n",
        "        self.data = []\n",
        "\n",
        "    def is_empty( self ):\n",
        "        return len( self.data ) == 0\n",
        "\n",
        "    def length( self ):\n",
        "        return len( self.data )        \n",
        "\n",
        "    def enqueue( self , value ):\n",
        "        self.data.append( value )\n",
        "\n",
        "    def dequeue( self ):\n",
        "        return self.data.pop(0)\n",
        "\n",
        "    def to_string( self ):\n",
        "        for elem in self.data:\n",
        "            print(f\"|{ elem }| <--\" , end=\"\" )\n",
        "        print(\"\")        "
      ],
      "execution_count": 3,
      "outputs": []
    },
    {
      "cell_type": "code",
      "metadata": {
        "colab": {
          "base_uri": "https://localhost:8080/"
        },
        "id": "Z_NPLb4QNwcG",
        "outputId": "9d9ceea4-6a5b-47e1-8e5e-b28e545f49ca"
      },
      "source": [
        "cola = Queue()\n",
        "print(\"Esta vacio??: \" , cola.is_empty())\n",
        "print(\"numero de elementos: \" , cola.length())\n",
        "cola.enqueue(10)\n",
        "cola.enqueue(20)\n",
        "cola.enqueue(30)\n",
        "print(\"Esta vacio?: \" , cola.is_empty())\n",
        "print(\"Numero de elementos: \" , cola.length())\n",
        "cola.enqueue(40)\n",
        "cola.enqueue(50)\n",
        "cola.enqueue(60)\n",
        "cola.to_string()\n",
        "siguiente = cola.dequeue()\n",
        "print(\"Atendiendo a :\" , siguiente)\n",
        "cola.to_string()"
      ],
      "execution_count": 4,
      "outputs": [
        {
          "output_type": "stream",
          "name": "stdout",
          "text": [
            "Esta vacio??:  True\n",
            "numero de elementos:  0\n",
            "Esta vacio?:  False\n",
            "Numero de elementos:  3\n",
            "|10| <--|20| <--|30| <--|40| <--|50| <--|60| <--\n",
            "Atendiendo a : 10\n",
            "|20| <--|30| <--|40| <--|50| <--|60| <--\n"
          ]
        }
      ]
    }
  ]
}