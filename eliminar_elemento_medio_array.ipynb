{
  "nbformat": 4,
  "nbformat_minor": 0,
  "metadata": {
    "colab": {
      "name": "eliminar_elemento_medio_array.ipynb",
      "provenance": [],
      "authorship_tag": "ABX9TyPjbcrSnsBIb/xpW65jlsyP",
      "include_colab_link": true
    },
    "kernelspec": {
      "name": "python3",
      "display_name": "Python 3"
    },
    "language_info": {
      "name": "python"
    }
  },
  "cells": [
    {
      "cell_type": "markdown",
      "metadata": {
        "id": "view-in-github",
        "colab_type": "text"
      },
      "source": [
        "<a href=\"https://colab.research.google.com/github/EduardoDamian9302/Ejercicios_Estructura_de_Datos/blob/main/eliminar_elemento_medio_array.ipynb\" target=\"_parent\"><img src=\"https://colab.research.google.com/assets/colab-badge.svg\" alt=\"Open In Colab\"/></a>"
      ]
    },
    {
      "cell_type": "code",
      "metadata": {
        "colab": {
          "base_uri": "https://localhost:8080/"
        },
        "id": "LcT6hpeY1N0f",
        "outputId": "1506ed41-58d7-4edb-c4b5-e1ab340cda04"
      },
      "source": [
        "array=[10,20,30,40,50,60,70,80,90,100]\n",
        "medio=(len(array)//2)-1\n",
        "del array[medio]\n",
        "print(array)"
      ],
      "execution_count": 10,
      "outputs": [
        {
          "output_type": "stream",
          "name": "stdout",
          "text": [
            "[10, 20, 30, 40, 60, 70, 80, 90, 100]\n"
          ]
        }
      ]
    }
  ]
}