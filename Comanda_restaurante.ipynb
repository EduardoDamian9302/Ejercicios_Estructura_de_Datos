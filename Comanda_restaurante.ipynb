{
  "nbformat": 4,
  "nbformat_minor": 0,
  "metadata": {
    "colab": {
      "name": "Comanda_restaurante.ipynb",
      "provenance": [],
      "authorship_tag": "ABX9TyOdqM8kgjGPVZjoZvaKVpkA",
      "include_colab_link": true
    },
    "kernelspec": {
      "name": "python3",
      "display_name": "Python 3"
    },
    "language_info": {
      "name": "python"
    }
  },
  "cells": [
    {
      "cell_type": "markdown",
      "metadata": {
        "id": "view-in-github",
        "colab_type": "text"
      },
      "source": [
        "<a href=\"https://colab.research.google.com/github/EduardoDamian9302/Ejercicios_Estructura_de_Datos/blob/main/Comanda_restaurante.ipynb\" target=\"_parent\"><img src=\"https://colab.research.google.com/assets/colab-badge.svg\" alt=\"Open In Colab\"/></a>"
      ]
    },
    {
      "cell_type": "code",
      "metadata": {
        "colab": {
          "base_uri": "https://localhost:8080/"
        },
        "id": "lYPe7tEQJ4PT",
        "outputId": "530beffb-193a-42e8-86ae-4008043e7295"
      },
      "source": [
        "Entrada = ( \"Sopa\" , \"Ceviche\" , \"Empanadas\" , \"Nachos\" , \"Crema\" , \"Pasta\" ,\"Tostadas\" , \"Ensalada\") \n",
        "Medio =   ( \"Arroz\" , \"Pollo\" , \"Quesadillas\", \"Pescado\", \"Queso Fundido\" ,\"Brocheta\") \n",
        "Fuerte =  ( \"Filete\" , \"Spaghetti\" , \"Pechuga\" , \"Enfrijoladas\" , \"Enchiladas\") \n",
        "Adicionales = ( \"Nachos sin queso\" , \"Crema con crotones\" , \"Pasta sin salsa\" , \"Tostadas sin aditivos\" , \"Ensalada sin carne\" , \"Enfrijoladas/Enchiladas sin cebolla\" ,\"Salsa Cesar\" , \"Salsa BBQ\" , \"Salsa guacamole\" , \"Filete termino medio\")           \n",
        "mesa = int(input(\"Mesa: \"))\n",
        "comensal = int(input(\"Comensal: \"))\n",
        "print(\"Platillo entrada 0-7 (Sopa,Ceviche,Empanadas,Nachos,Crema,Pasta,Tostadas,Ensalada)\")\n",
        "entrada = int(input(\"Entrada: \"))\n",
        "print(\"Platillo medio 0-5 (Arroz,Pollo,Quesadillas,Pescado,Queso fundido,Brocheta\")\n",
        "medio = int(input(\"Medio: \"))\n",
        "print(\"Platillo fuerte 0-4(Filete,Spaghetti,Pechuga,Enfrijoladas,Enchiladas\")\n",
        "fuerte = int(input(\"Fuerte: \"))\n",
        "print(\"Adicionales 0-9 (Nachos sin queso,Crema con crotones,Pasta sin salsa,Tostadas sin aditivos,Ensalada sin carne,Enfrijoladas/Enchiladas sin cebolla,Salsa Cesar,Salsa BBQ,Salsa guacamole,Filete termino medio\")\n",
        "adicionales = int(input(\"Adicional: \"))\n",
        "print(\"Detalle:\")\n",
        "print(\"MESA: \",mesa)\n",
        "print(\"COMENSAL: \",comensal)\n",
        "print(f\"ENTRADA: {Entrada[entrada]}\")\n",
        "print(f\"MEDIO: {Medio[medio]}\")\n",
        "print(f\"FUERTE: {Fuerte[fuerte]}\")\n",
        "print(f\"ADICIONALES: {Adicionales[adicionales]}\")       "
      ],
      "execution_count": 4,
      "outputs": [
        {
          "output_type": "stream",
          "name": "stdout",
          "text": [
            "Mesa: 4\n",
            "Comensal: 2\n",
            "Platillo entrada 0-7 (Sopa,Ceviche,Empanadas,Nachos,Crema,Pasta,Tostadas,Ensalada)\n",
            "Entrada: 2\n",
            "Platillo medio 0-5 (Arroz,Pollo,Quesadillas,Pescado,Queso fundido,Brocheta\n",
            "Medio: 3\n",
            "Platillo fuerte 0-4(Filete,Spaghetti,Pechuga,Enfrijoladas,Enchiladas\n",
            "Fuerte: 2\n",
            "Adicionales 0-9 (Nachos sin queso,Crema con crotones,Pasta sin salsa,Tostadas sin aditivos,Ensalada sin carne,Enfrijoladas/Enchiladas sin cebolla,Salsa Cesar,Salsa BBQ,Salsa guacamole,Filete termino medio\n",
            "Adicional: 3\n",
            "Detalle:\n",
            "MESA:  4\n",
            "COMENSAL:  2\n",
            "ENTRADA: Empanadas\n",
            "MEDIO: Pescado\n",
            "FUERTE: Pechuga\n",
            "ADICIONALES: Tostadas sin aditivos\n"
          ]
        }
      ]
    }
  ]
}