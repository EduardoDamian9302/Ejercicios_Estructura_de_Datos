{
  "nbformat": 4,
  "nbformat_minor": 0,
  "metadata": {
    "colab": {
      "name": "ArraysADT_EDD1310.ipynb",
      "provenance": [],
      "authorship_tag": "ABX9TyMXZ1Lv3l+MI0OT+fIdalxH",
      "include_colab_link": true
    },
    "kernelspec": {
      "name": "python3",
      "display_name": "Python 3"
    },
    "language_info": {
      "name": "python"
    }
  },
  "cells": [
    {
      "cell_type": "markdown",
      "metadata": {
        "id": "view-in-github",
        "colab_type": "text"
      },
      "source": [
        "<a href=\"https://colab.research.google.com/github/EduardoDamian9302/Ejercicios_Estructura_de_Datos/blob/main/ArraysADT_EDD1310.ipynb\" target=\"_parent\"><img src=\"https://colab.research.google.com/assets/colab-badge.svg\" alt=\"Open In Colab\"/></a>"
      ]
    },
    {
      "cell_type": "code",
      "metadata": {
        "id": "Y9ipQUC3Pbil",
        "colab": {
          "base_uri": "https://localhost:8080/"
        },
        "outputId": "f0f799be-bb1f-4f54-8d83-6f006aab3107"
      },
      "source": [
        "class Array:\n",
        "    def __init__( self , tam):\n",
        "        self.__tamanio = tam\n",
        "        self.__data = [ 0 for x in range(self.__tamanio) ]\n",
        "    def to_string( self ):\n",
        "        info = \" \"\n",
        "        for dato in self.__data:\n",
        "            info = info + str(dato) + \"|\"\n",
        "        return info\n",
        "    def get_item( self , index ):\n",
        "        return self.__data[index]\n",
        "    def get_length( self ):\n",
        "        return len( self.__data )     \n",
        "    def set_item( self , dato , index ):\n",
        "        #Hace falta revisar limites\n",
        "        if index >= 0 and index < self.get_length():\n",
        "            self.__data[index] = dato\n",
        "        else:\n",
        "            print(\"Error: indice fuera de rango\")    \n",
        "        self.__data[index] = dato\n",
        "    def clear( self , dato):\n",
        "        self.__data = [ dato for x in range(self.__tamanio) ]\n",
        "ejemplo = Array(20)\n",
        "print( ejemplo.to_string() )\n",
        "print( ejemplo.get_item(2) )\n",
        "ejemplo.set_item( 45 , 2 )\n",
        "print( ejemplo.to_string() ) \n",
        "ejemplo.clear( 4 )\n",
        "print( ejemplo.to_string() )\n",
        "print(ejemplo.get_length() )           "
      ],
      "execution_count": 3,
      "outputs": [
        {
          "output_type": "stream",
          "name": "stdout",
          "text": [
            " 0|0|0|0|0|0|0|0|0|0|0|0|0|0|0|0|0|0|0|0|\n",
            "0\n",
            " 0|0|45|0|0|0|0|0|0|0|0|0|0|0|0|0|0|0|0|0|\n",
            " 4|4|4|4|4|4|4|4|4|4|4|4|4|4|4|4|4|4|4|4|\n",
            "20\n"
          ]
        }
      ]
    },
    {
      "cell_type": "code",
      "metadata": {
        "id": "NeXeXRPjm-B9"
      },
      "source": [
        "archivo = open('junio.dat' , 'rt' , encoding='latin-1' )\n",
        "print(archivo.read())"
      ],
      "execution_count": null,
      "outputs": []
    },
    {
      "cell_type": "code",
      "metadata": {
        "id": "8vko3_4Vn4vr",
        "colab": {
          "base_uri": "https://localhost:8080/"
        },
        "outputId": "ceb8aa86-fdb2-4e91-fbf0-253c0c36cf2a"
      },
      "source": [
        "class Trabajador:\n",
        "    def __init__( self, nt, nom, pat, mat, he , sb, ai):\n",
        "        self.__numero_trabajador = nt\n",
        "        self.__nombres = nom\n",
        "        self.__apellido_paterno = pat\n",
        "        self.__apellido_materno = mat\n",
        "        self.__horas_extras = he\n",
        "        self.__sueldo_base = sb\n",
        "        self.__anio_ingreso = ai\n",
        "    def set_numero_trabajador( self , nt):\n",
        "        self.__numero_trabajador = nt\n",
        "    def get_numero_trabajador( self ):\n",
        "        return self.__numero_trabajador    \n",
        "    def set_nombres( self , nom):\n",
        "        self.__nombres = nom\n",
        "    def get_nombres( self ):\n",
        "        return self.__nombres    \n",
        "    def set_apellido_paterno( self , pat):\n",
        "        self.__apellido_paterno = pat\n",
        "    def get_apellido_paterno( self ):\n",
        "        return self.__apellido_paterno    \n",
        "    def set_apellido_materno( self , mat):\n",
        "        self.__apellido_materno = mat\n",
        "    def get_apellido_materno( self ):\n",
        "        return self.__apellido_materno    \n",
        "    def set_horas_extras( self , he):\n",
        "        self.__horas_extras = he\n",
        "    def get_horas_extras( self ):\n",
        "        return self.__horas_extras    \n",
        "    def set_sueldo_base( self , sb):\n",
        "        self.__sueldo_base = sb\n",
        "    def get_sueldo_base( self ):\n",
        "        return self.__sueldo_base    \n",
        "    def set_anio_ingreso( self , ai):\n",
        "        self.__anio_ingreso = ai\n",
        "    def get_anio_ingreso( self ):\n",
        "        return self.__anio_ingreso\n",
        "\n",
        "    def calcular_sueldo_mensual(  self ):\n",
        "        anios = 2021 - self.get_anio_ingreso()\n",
        "        sueldo =  self.get_sueldo_base()\n",
        "        sueldo += self.get_horas_extras()*276.5\n",
        "        sueldo += sueldo + ( sueldo * anios * 0.03 )\n",
        "        return sueldo\n",
        "    def to_string( self ):\n",
        "        return \"Numero Trabajador: \" + str(self.__numero_trabajador) + \" Nombre: \"+ self.__nombres + \" Sueldo: $\" + str(self.calcular_sueldo_mensual()) + \" Antigüedad: \" + str(self.calcular_antiguedad())    \n",
        "\n",
        "    def calcular_antiguedad( self ):\n",
        "        return 2021 - self.get_anio_ingreso()\n",
        "        \n",
        "emp = Trabajador(2345,'CARLOS','PEREZ','CASTILLO',0,9850,2017)\n",
        "print(emp.get_sueldo_base())\n",
        "print(emp.get_horas_extras())\n",
        "print(emp.to_string())\n",
        "print(emp.calcular_antiguedad())                                     "
      ],
      "execution_count": 9,
      "outputs": [
        {
          "output_type": "stream",
          "name": "stdout",
          "text": [
            "9850\n",
            "0\n",
            "Numero Trabajador: 2345 Nombre: CARLOS Sueldo: $20882.0 Antigüedad: 4\n",
            "4\n"
          ]
        }
      ]
    },
    {
      "cell_type": "code",
      "metadata": {
        "colab": {
          "base_uri": "https://localhost:8080/"
        },
        "id": "2carYDJBqIXu",
        "outputId": "8e727a39-2eff-4aeb-b185-5000134d264d"
      },
      "source": [
        "class Nomina:\n",
        "    def __init__( self , ruta_archivo ):\n",
        "        archivo = open( ruta_archivo , 'rt' , encoding='latin-1')\n",
        "        empleados = archivo.readlines()\n",
        "        del empleados[0]\n",
        "        for index in range(len(empleados)):\n",
        "            empleados[index] = empleados[index].strip().split(',')\n",
        "        self.__data=Array(len(empleados))\n",
        "        cont = 0\n",
        "        for emp in empleados:\n",
        "            tmp = Trabajador(int(emp[0]) , emp[1] , emp[2] , emp[3] , int(emp[4]) , int(emp[5]) , int(emp[6]))\n",
        "            self.__data.set_item( tmp , cont)\n",
        "            cont += 1    \n",
        "    def calcular_sueldos( self ):\n",
        "        for index in range(self.__data.get_length()):\n",
        "            print(self.__data.get_item(index).to_string())\n",
        "    def buscar_mas_antiguo( self ):\n",
        "        for index in range(self.__data.get_length()):\n",
        "            if self.__data.get_item(index).calcular_antiguedad() < self.__data.get_item(index+1).calcular_antiguedad():\n",
        "                antiguo = index+1\n",
        "                return antiguo    \n",
        "        \n",
        "    def buscar_menos_antiguo( self ):\n",
        "        for index in range(self.__data.get_length()):\n",
        "            if self.__data.get_item(index).calcular_antiguedad() > self.__data.get_item(index+1).calcular_antiguedad():\n",
        "                nuevo = index+1\n",
        "                return nuevo\n",
        "        \n",
        "ejemplo = Nomina('junio.dat')\n",
        "ejemplo.calcular_sueldos()\n",
        "print(\"Array con mas antiguedad: \" + str(ejemplo.buscar_mas_antiguo()))\n",
        "print(\"Array con menor antiguedad: \" + str(ejemplo.buscar_menos_antiguo()))                        "
      ],
      "execution_count": 18,
      "outputs": [
        {
          "output_type": "stream",
          "name": "stdout",
          "text": [
            "Numero Trabajador: 2345 Nombre: CARLOS Sueldo: $20882.0 Antigüedad: 4\n",
            "Numero Trabajador: 5754 Nombre: ANGEL Sueldo: $20556.795 Antigüedad: 1\n",
            "Numero Trabajador: 5345 Nombre: JESUS Sueldo: $22366.45 Antigüedad: 5\n",
            "Numero Trabajador: 3267 Nombre: DAVID Sueldo: $22054.36 Antigüedad: 4\n",
            "Numero Trabajador: 8765 Nombre: PEDRO Sueldo: $22054.36 Antigüedad: 4\n",
            "Numero Trabajador: 5454 Nombre: DANIEL Sueldo: $22320.155 Antigüedad: 3\n",
            "Numero Trabajador: 3456 Nombre: ALEJANDRO Sueldo: $21742.27 Antigüedad: 3\n",
            "Numero Trabajador: 3445 Nombre: MARIA Sueldo: $21164.385000000002 Antigüedad: 3\n",
            "Numero Trabajador: 9088 Nombre: ALBERTO Sueldo: $21468.18 Antigüedad: 4\n",
            "Numero Trabajador: 8877 Nombre: RAFAEL Sueldo: $22054.36 Antigüedad: 4\n",
            "Numero Trabajador: 6767 Nombre: FERNANDO Sueldo: $22569.36 Antigüedad: 2\n",
            "Numero Trabajador: 5654 Nombre: PABLO Sueldo: $20860.59 Antigüedad: 2\n",
            "Numero Trabajador: 4323 Nombre: JORGE Sueldo: $21118.09 Antigüedad: 1\n",
            "Numero Trabajador: 2232 Nombre: RAMON Sueldo: $21771.975 Antigüedad: 5\n",
            "Array con mas antiguedad: 2\n",
            "Array con menor antiguedad: 1\n"
          ]
        }
      ]
    }
  ]
}