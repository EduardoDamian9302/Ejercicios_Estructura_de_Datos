{
  "nbformat": 4,
  "nbformat_minor": 0,
  "metadata": {
    "colab": {
      "name": "ArraysADT_EDD1310.ipynb",
      "provenance": [],
      "authorship_tag": "ABX9TyNEnB3R8Afbd49KiLdfD0Ss",
      "include_colab_link": true
    },
    "kernelspec": {
      "name": "python3",
      "display_name": "Python 3"
    },
    "language_info": {
      "name": "python"
    }
  },
  "cells": [
    {
      "cell_type": "markdown",
      "metadata": {
        "id": "view-in-github",
        "colab_type": "text"
      },
      "source": [
        "<a href=\"https://colab.research.google.com/github/EduardoDamian9302/Ejercicios_Estructura_de_Datos/blob/main/ArraysADT_EDD1310.ipynb\" target=\"_parent\"><img src=\"https://colab.research.google.com/assets/colab-badge.svg\" alt=\"Open In Colab\"/></a>"
      ]
    },
    {
      "cell_type": "code",
      "metadata": {
        "id": "Y9ipQUC3Pbil",
        "colab": {
          "base_uri": "https://localhost:8080/"
        },
        "outputId": "70d04916-785a-4cf2-9877-6581a8a0b87f"
      },
      "source": [
        "class Array:\n",
        "    def __init__( self , tam):\n",
        "        self.__tamanio = tam\n",
        "        self.__data = [ 0 for x in range(self.__tamanio) ]\n",
        "    def to_string( self ):\n",
        "        info = \" \"\n",
        "        for dato in self.__data:\n",
        "            info = info + str(dato) + \"|\"\n",
        "        return info\n",
        "    def get_item( self , index ):\n",
        "        return self.__data[index]\n",
        "    def get_length( self ):\n",
        "        return len( self.__data )     \n",
        "    def set_item( self , dato , index ):\n",
        "        #Hace falta revisar limites\n",
        "        if index >= 0 and index < self.get_length():\n",
        "            self.__data[index] = dato\n",
        "        else:\n",
        "            print(\"Error: indice fuera de rango\")    \n",
        "        self.__data[index] = dato\n",
        "    def clear( self , dato):\n",
        "        self.__data = [ dato for x in range(self.__tamanio) ]\n",
        "ejemplo = Array(20)\n",
        "print( ejemplo.to_string() )\n",
        "print( ejemplo.get_item(2) )\n",
        "ejemplo.set_item( 45 , 2 )\n",
        "print( ejemplo.to_string() ) \n",
        "ejemplo.clear( 4 )\n",
        "print( ejemplo.to_string() )\n",
        "print(ejemplo.get_length() )           "
      ],
      "execution_count": 1,
      "outputs": [
        {
          "output_type": "stream",
          "name": "stdout",
          "text": [
            " 0|0|0|0|0|0|0|0|0|0|0|0|0|0|0|0|0|0|0|0|\n",
            "0\n",
            " 0|0|45|0|0|0|0|0|0|0|0|0|0|0|0|0|0|0|0|0|\n",
            " 4|4|4|4|4|4|4|4|4|4|4|4|4|4|4|4|4|4|4|4|\n",
            "20\n"
          ]
        }
      ]
    },
    {
      "cell_type": "code",
      "metadata": {
        "colab": {
          "base_uri": "https://localhost:8080/"
        },
        "id": "0R86PHmVgghG",
        "outputId": "2611ad89-ef11-440f-9446-865320aca941"
      },
      "source": [
        "lista = [ 3 for x in range(5)]\n",
        "print(lista)"
      ],
      "execution_count": 2,
      "outputs": [
        {
          "output_type": "stream",
          "name": "stdout",
          "text": [
            "[3, 3, 3, 3, 3]\n"
          ]
        }
      ]
    },
    {
      "cell_type": "code",
      "metadata": {
        "colab": {
          "base_uri": "https://localhost:8080/"
        },
        "id": "5o_wqpNQlpzC",
        "outputId": "7eca61b4-2e83-4aac-c9f4-4dc3f1b3a30b"
      },
      "source": [
        "!cat junio.dat"
      ],
      "execution_count": 5,
      "outputs": [
        {
          "output_type": "stream",
          "name": "stdout",
          "text": [
            "numero de trabajador, nombres, paterno, materno, horas extra, sueldo base, año de ingreso\r\n",
            "2345,CARLOS,PEREZ,CASTILLO,0,9850,2017\r\n",
            "5754,ANGEL,GOMEZ,GARRIDO,1,9850,2020\r\n",
            "5345,JESUS,MARTIN,SANTOS,2,9850,2016\r\n",
            "3267,DAVID,JIMENEZ,LOZANO,2,9850,2017\r\n",
            "8765,PEDRO,RUIZ,GUERRERO,2,9850,2017\r\n",
            "5454,DANIEL,HERNANDEZ,CANO,3,9850,2018\r\n",
            "3456,ALEJANDRO,DIAZ,PRIETO,2,9850,2018\r\n",
            "3445,MARIA,MORENO,MENDEZ,1,9850,2018\r\n",
            "9088,ALBERTO,MU�OZ,CRUZ,1,9850,2017\r\n",
            "8877,RAFAEL,ALVAREZ,FLORES,2,9850,2017\r\n",
            "6767,FERNANDO,ROMERO,HERRERA,4,9850,2019\r\n",
            "5654,PABLO,ALONSO,GALLEGO,1,9850,2019\r\n",
            "4323,JORGE,GUTIERREZ,MARQUEZ,2,9850,2020\r\n",
            "2232,RAMON,NAVARRO,LEON,1,9850,2016"
          ]
        }
      ]
    },
    {
      "cell_type": "code",
      "metadata": {
        "colab": {
          "base_uri": "https://localhost:8080/"
        },
        "id": "NeXeXRPjm-B9",
        "outputId": "d846e8e3-d784-4322-c83a-6303cdf432e5"
      },
      "source": [
        "archivo = open('junio.dat' , 'rt' , encoding='latin-1' )\n",
        "print(archivo.read())"
      ],
      "execution_count": 6,
      "outputs": [
        {
          "output_type": "stream",
          "name": "stdout",
          "text": [
            "numero de trabajador, nombres, paterno, materno, horas extra, sueldo base, aÃ±o de ingreso\n",
            "2345,CARLOS,PEREZ,CASTILLO,0,9850,2017\n",
            "5754,ANGEL,GOMEZ,GARRIDO,1,9850,2020\n",
            "5345,JESUS,MARTIN,SANTOS,2,9850,2016\n",
            "3267,DAVID,JIMENEZ,LOZANO,2,9850,2017\n",
            "8765,PEDRO,RUIZ,GUERRERO,2,9850,2017\n",
            "5454,DANIEL,HERNANDEZ,CANO,3,9850,2018\n",
            "3456,ALEJANDRO,DIAZ,PRIETO,2,9850,2018\n",
            "3445,MARIA,MORENO,MENDEZ,1,9850,2018\n",
            "9088,ALBERTO,MUOZ,CRUZ,1,9850,2017\n",
            "8877,RAFAEL,ALVAREZ,FLORES,2,9850,2017\n",
            "6767,FERNANDO,ROMERO,HERRERA,4,9850,2019\n",
            "5654,PABLO,ALONSO,GALLEGO,1,9850,2019\n",
            "4323,JORGE,GUTIERREZ,MARQUEZ,2,9850,2020\n",
            "2232,RAMON,NAVARRO,LEON,1,9850,2016\n"
          ]
        }
      ]
    },
    {
      "cell_type": "code",
      "metadata": {
        "id": "8vko3_4Vn4vr"
      },
      "source": [
        "class Trabajador:\n",
        "    def __init__( self, nt, nom, pat, mat, he , sb, ai):\n",
        "        self.__numero_trabajador = nt\n",
        "        self.__nombres = nom\n",
        "        self.__apellido_paterno = pat\n",
        "        self.__apellido_materno = mat\n",
        "        self.__horas_extras = he\n",
        "        self.__sueldo_base = sb\n",
        "        self.__anio_ingreso = ai\n",
        "    def set_numero_trabajador( self , nt):\n",
        "        self.__numero_trabajador = nt\n",
        "    def set_nombres( self , nom):\n",
        "        self.__nombres = nom\n",
        "    def set_apellido_paterno( self , pat):\n",
        "        self.__apellido_paterno = pat\n",
        "    def set_apellido_materno( self , mat):\n",
        "        self.__apellido_materno = mat\n",
        "    def set_horas_extras( self , he):\n",
        "        self.__horas_extras = he\n",
        "    def set_sueldo_base( self , sb):\n",
        "        self.__sueldo_base = sb\n",
        "    def set_anio_ingreso( self , ai):\n",
        "        self.__anio_ingreso = ai                 "
      ],
      "execution_count": 7,
      "outputs": []
    },
    {
      "cell_type": "code",
      "metadata": {
        "colab": {
          "base_uri": "https://localhost:8080/",
          "height": 129
        },
        "id": "2carYDJBqIXu",
        "outputId": "20a5e3b5-d1ab-40fd-e9df-9f55dc045595"
      },
      "source": [
        "class Nomina:\n",
        "    def __init__( self , ruta_archivo ):\n",
        "        self.__data = Array( num_emp )\n",
        "    def calcular_sueldos( self ):\n",
        "    def buscar_mas_antiguo( self ):\n",
        "    def buscar_menos_antiguo( self ):            "
      ],
      "execution_count": 9,
      "outputs": [
        {
          "output_type": "error",
          "ename": "IndentationError",
          "evalue": "ignored",
          "traceback": [
            "\u001b[0;36m  File \u001b[0;32m\"<ipython-input-9-26b6c85a1e70>\"\u001b[0;36m, line \u001b[0;32m5\u001b[0m\n\u001b[0;31m    def buscar_mas_antiguo( self ):\u001b[0m\n\u001b[0m      ^\u001b[0m\n\u001b[0;31mIndentationError\u001b[0m\u001b[0;31m:\u001b[0m expected an indented block\n"
          ]
        }
      ]
    }
  ]
}