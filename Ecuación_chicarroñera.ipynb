{
  "nbformat": 4,
  "nbformat_minor": 0,
  "metadata": {
    "colab": {
      "name": "Ecuación chicarroñera.ipynb",
      "provenance": [],
      "authorship_tag": "ABX9TyMh+NScFdx22e7/4pqlltq1",
      "include_colab_link": true
    },
    "kernelspec": {
      "name": "python3",
      "display_name": "Python 3"
    },
    "language_info": {
      "name": "python"
    }
  },
  "cells": [
    {
      "cell_type": "markdown",
      "metadata": {
        "id": "view-in-github",
        "colab_type": "text"
      },
      "source": [
        "<a href=\"https://colab.research.google.com/github/EduardoDamian9302/Ejercicios_Estructura_de_Datos/blob/main/Ecuaci%C3%B3n_chicarro%C3%B1era.ipynb\" target=\"_parent\"><img src=\"https://colab.research.google.com/assets/colab-badge.svg\" alt=\"Open In Colab\"/></a>"
      ]
    },
    {
      "cell_type": "code",
      "metadata": {
        "colab": {
          "base_uri": "https://localhost:8080/"
        },
        "id": "oUY_Z-mYBeP2",
        "outputId": "0063d1d1-6462-40ad-ac53-9801ab4438a2"
      },
      "source": [
        "from math import sqrt\n",
        "def calculo(a,b,c):\n",
        "    d = (b**2) - (4 * a * c)\n",
        "    if(d<0):\n",
        "        print(\"Ecuacion sin solucion\") \n",
        "        raise SystemExit\n",
        "    x1 = (-b+sqrt(d)) / (2*a)\n",
        "    x2 = (-b-sqrt(d)) / (2*a)\n",
        "    return x1, x2\n",
        "\n",
        "a = float(input('Valor de a: '))\n",
        "b = float(input('Valor de b: '))\n",
        "c = float(input('Valor de c: '))\n",
        "\n",
        "x = calculo(a,b,c)\n",
        "print('El resultado es: ', x)"
      ],
      "execution_count": 35,
      "outputs": [
        {
          "output_type": "stream",
          "name": "stdout",
          "text": [
            "Valor de a: 2\n",
            "Valor de b: 9\n",
            "Valor de c: 10\n",
            "El resultado es:  (-2.0, -2.5)\n"
          ]
        }
      ]
    }
  ]
}