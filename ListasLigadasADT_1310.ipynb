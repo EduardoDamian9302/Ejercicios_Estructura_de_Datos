{
  "nbformat": 4,
  "nbformat_minor": 0,
  "metadata": {
    "colab": {
      "name": "ListasLigadasADT_1310.ipynb",
      "provenance": [],
      "authorship_tag": "ABX9TyOrwaMZ2H3wqY6DOYfpm+wI",
      "include_colab_link": true
    },
    "kernelspec": {
      "name": "python3",
      "display_name": "Python 3"
    },
    "language_info": {
      "name": "python"
    }
  },
  "cells": [
    {
      "cell_type": "markdown",
      "metadata": {
        "id": "view-in-github",
        "colab_type": "text"
      },
      "source": [
        "<a href=\"https://colab.research.google.com/github/EduardoDamian9302/Ejercicios_Estructura_de_Datos/blob/main/ListasLigadasADT_1310.ipynb\" target=\"_parent\"><img src=\"https://colab.research.google.com/assets/colab-badge.svg\" alt=\"Open In Colab\"/></a>"
      ]
    },
    {
      "cell_type": "code",
      "metadata": {
        "id": "TKMByVxu0Vdu"
      },
      "source": [
        "class Nodo:\n",
        "    def __init__( self , valor , siguiente = None ):\n",
        "        self.data = valor\n",
        "        self.next = siguiente"
      ],
      "execution_count": null,
      "outputs": []
    },
    {
      "cell_type": "code",
      "metadata": {
        "colab": {
          "base_uri": "https://localhost:8080/"
        },
        "id": "qpfRrQ3k1t2y",
        "outputId": "a4a53843-0d3f-4e84-fbc0-72baacdb7e39"
      },
      "source": [
        "head = Nodo( 10 )\n",
        "print( head.data )"
      ],
      "execution_count": null,
      "outputs": [
        {
          "output_type": "stream",
          "name": "stdout",
          "text": [
            "10\n"
          ]
        }
      ]
    },
    {
      "cell_type": "code",
      "metadata": {
        "colab": {
          "base_uri": "https://localhost:8080/"
        },
        "id": "S2pOly_G2c-v",
        "outputId": "aa785358-3a75-4cbe-e75a-9d68ae9512e5"
      },
      "source": [
        "head = Nodo(10)\n",
        "head.next = Nodo(20)\n",
        "print(f\"Primero:{head.data}\")\n",
        "print(f\"Segundo:{head.next.data}\")\n",
        "\n",
        "head = Nodo( 10 , Nodo(20))\n",
        "print(f\"Primero:{head.data}\")\n",
        "print(f\"Segundo:{head.next.data}\")\n",
        "\n",
        "curr_node = head\n",
        "while curr_node != None:\n",
        "    print(f\"| { curr_node.data } | -->\" , end=\"\" )\n",
        "    curr_node = curr_node.next "
      ],
      "execution_count": null,
      "outputs": [
        {
          "output_type": "stream",
          "name": "stdout",
          "text": [
            "Primero:10\n",
            "Segundo:20\n",
            "Primero:10\n",
            "Segundo:20\n",
            "| 10 | -->| 20 | -->"
          ]
        }
      ]
    },
    {
      "cell_type": "code",
      "metadata": {
        "colab": {
          "base_uri": "https://localhost:8080/"
        },
        "id": "E_Rd-284654h",
        "outputId": "15813987-7aa0-465d-93a8-61ef74ad791f"
      },
      "source": [
        "head = Nodo(10 , Nodo(20 , Nodo(30 , Nodo(40))))\n",
        "curr_node = head\n",
        "while curr_node != None:\n",
        "    print(f\"| { curr_node.data } | -->\" , end=\"\" )\n",
        "    curr_node = curr_node.next \n",
        "print(\"\")\n",
        "print(head.data)\n",
        "curr_node = head\n",
        "while curr_node.next != None:\n",
        "    curr_node= curr_node.next\n",
        "print(curr_node.data)\n",
        "\n",
        "curr_node = head\n",
        "while curr_node.data != 20:\n",
        "    curr_node = curr_node.next\n",
        "print(curr_node.data)\n",
        "\n",
        "curr_node.next = Nodo(25, curr_node.next)\n",
        "print(\"Despues de insertar 25\")\n",
        "\n",
        "curr_node = head\n",
        "while curr_node != None:\n",
        "    print(f\"| { curr_node.data } | -->\" , end=\"\" )\n",
        "    curr_node = curr_node.next "
      ],
      "execution_count": null,
      "outputs": [
        {
          "output_type": "stream",
          "name": "stdout",
          "text": [
            "| 10 | -->| 20 | -->| 30 | -->| 40 | -->\n",
            "10\n",
            "40\n",
            "20\n",
            "Despues de insertar 25\n",
            "| 10 | -->| 20 | -->| 25 | -->| 30 | -->| 40 | -->"
          ]
        }
      ]
    },
    {
      "cell_type": "code",
      "metadata": {
        "id": "HqUcecYVc9rv"
      },
      "source": [
        "class LinkedList:\n",
        "    def __init__( self ):\n",
        "        self.head = None\n",
        "\n",
        "    def is_empty( self ):\n",
        "        return self.head == None\n",
        "\n",
        "    def get_tail( self ):\n",
        "        if self.is_empty():\n",
        "            return None\n",
        "        else:     \n",
        "            curr_node = self.head\n",
        "            while curr_node.next != None:\n",
        "                curr_node = curr_node.next\n",
        "            return curr_node\n",
        "\n",
        "    def append( self , value ):\n",
        "        if self.head == None:\n",
        "            self.head = Nodo( value)\n",
        "        else:\n",
        "            curr_node = self.head\n",
        "            while curr_node.next != None:\n",
        "                curr_node = curr_node.next\n",
        "            curr_node.next = Nodo(value)\n",
        "\n",
        "    def transversal( self ):\n",
        "        curr_node = self.head\n",
        "        while curr_node != None:\n",
        "            print(f\"| { curr_node.data } | -->\" , end=\"\")\n",
        "            curr_node = curr_node.next\n",
        "        print(\"\")\n",
        "\n",
        "    def remove( self , value ):\n",
        "        if self.head == None:\n",
        "            print(\"lista vacia, no se puede remover nada\")\n",
        "        else:\n",
        "            curr_node = self.head\n",
        "            aux = None\n",
        "            while curr_node.data != value:\n",
        "                aux = curr_node\n",
        "                curr_node = curr_node.next\n",
        "            if curr_node != None:\n",
        "                aux.next = curr_node.next\n",
        "                curr_nodee = None    \n",
        "\n",
        "    def preppend( self , value ):\n",
        "        if self.head == None:\n",
        "            print(\"Esta vacio , no se puede hacer preppend\")\n",
        "        else:\n",
        "            self.head = Nodo( value , self.head )    "
      ],
      "execution_count": null,
      "outputs": []
    },
    {
      "cell_type": "code",
      "metadata": {
        "colab": {
          "base_uri": "https://localhost:8080/"
        },
        "id": "s5_dfmeQfb78",
        "outputId": "5c13fdd6-7389-48ec-b168-647ebc8e2b04"
      },
      "source": [
        "lista = LinkedList()\n",
        "if lista.is_empty():\n",
        "    print(\"La lista esta vacia\")\n",
        "else:\n",
        "    print(\"La lista no esta vacia\")\n",
        "\n",
        "lista.append(10)\n",
        "lista.append(20)\n",
        "lista.append(30)\n",
        "lista.append(40)\n",
        "lista.append(50)\n",
        "\n",
        "nodo = lista.get_tail()\n",
        "if nodo != None:\n",
        "    print(nodo.data)\n",
        "else:\n",
        "    print(\"Lista esta vacia\")\n",
        "\n",
        "lista.transversal()\n",
        "lista.remove(30)\n",
        "lista.transversal()\n",
        "lista.preppend(5)\n",
        "lista.transversal()                "
      ],
      "execution_count": null,
      "outputs": [
        {
          "output_type": "stream",
          "name": "stdout",
          "text": [
            "La lista esta vacia\n",
            "50\n",
            "| 10 | -->| 20 | -->| 30 | -->| 40 | -->| 50 | -->\n",
            "| 10 | -->| 20 | -->| 40 | -->| 50 | -->\n",
            "| 5 | -->| 10 | -->| 20 | -->| 40 | -->| 50 | -->\n"
          ]
        }
      ]
    },
    {
      "cell_type": "code",
      "metadata": {
        "id": "ZuqstCmgs6Vs"
      },
      "source": [
        "class NodoDoble:\n",
        "    def __init__( self , value , siguiente=None , previo=None ):\n",
        "        self.data = value\n",
        "        self.next = siguiente\n",
        "        self.prev = previo"
      ],
      "execution_count": null,
      "outputs": []
    },
    {
      "cell_type": "code",
      "metadata": {
        "colab": {
          "base_uri": "https://localhost:8080/"
        },
        "id": "paR8hQ9UuW8P",
        "outputId": "86b2a16f-57f5-45e1-c347-227a85cbf952"
      },
      "source": [
        "#Ejercicio 1\n",
        "print(\"Ejercicio 1\")\n",
        "head = NodoDoble(10)\n",
        "tail=head\n",
        "print(head.data)\n",
        "\n",
        "#Ejercicio 2\n",
        "print(\"Ejercicio 2\")\n",
        "head = NodoDoble(10 , NodoDoble(20))\n",
        "head.next.prev = head\n",
        "tail = head.next\n",
        "print(\"El primero: \", head.data)\n",
        "print(\"El primero: \", tail.prev.data)\n",
        "print(\"El segundo: \", head.next.data)\n",
        "print(\"El segundo: \", tail.data)\n",
        "\n",
        "#Ejercicio 3\n",
        "print(\"Ejercicio 3\")\n",
        "head = NodoDoble(10 , NodoDoble(20 ,NodoDoble(30 , NodoDoble(40))))\n",
        "tail = head.next.next.next\n",
        "head.next.prev = head\n",
        "head.next.next.prev = head.next\n",
        "tail.prev = head.next.next \n",
        "print(\"El primero: \", head.data)\n",
        "print(\"El primero: \", tail.prev.prev.prev.data)\n",
        "print(\"El ultimo: \", tail.data)\n",
        "print(\"El ultimo: \", head.next.next.next.data)\n",
        "\n",
        "#Transversal\n",
        "print(\"Transversal\")\n",
        "curr_node = head\n",
        "while curr_node != None:\n",
        "    print(f\"|{curr_node.data}|-->\", end=\"\")\n",
        "    curr_node = curr_node.next\n",
        "print(\"\")\n",
        "\n",
        "#Reverse Transversal\n",
        "print(\"Reverse Transversal\")\n",
        "curr_node = tail\n",
        "while curr_node != None:\n",
        "    print(f\"|{curr_node.data}|-->\", end=\"\")\n",
        "    curr_node = curr_node.prev\n",
        "print(\"\")\n",
        "\n",
        "#Ejercicio 4\n",
        "print(\"Agregando 50 al final\")\n",
        "tail.next = NodoDoble(50,None,tail)\n",
        "tail = tail.next\n",
        "curr_node = head\n",
        "while curr_node != None:\n",
        "    print(f\"|{curr_node.data}|-->\", end=\"\")\n",
        "    curr_node = curr_node.next\n",
        "print(\"\")\n",
        "\n",
        "curr_node = tail\n",
        "while curr_node != None:\n",
        "    print(f\"|{curr_node.data}|-->\", end=\"\")\n",
        "    curr_node = curr_node.prev\n",
        "print(\"\")"
      ],
      "execution_count": null,
      "outputs": [
        {
          "output_type": "stream",
          "name": "stdout",
          "text": [
            "Ejercicio 1\n",
            "10\n",
            "Ejercicio 2\n",
            "El primero:  10\n",
            "El primero:  10\n",
            "El segundo:  20\n",
            "El segundo:  20\n",
            "Ejercicio 3\n",
            "El primero:  10\n",
            "El primero:  10\n",
            "El ultimo:  40\n",
            "El ultimo:  40\n",
            "Transversal\n",
            "|10|-->|20|-->|30|-->|40|-->\n",
            "Reverse Transversal\n",
            "|40|-->|30|-->|20|-->|10|-->\n",
            "Agregando 50 al final\n",
            "|10|-->|20|-->|30|-->|40|-->|50|-->\n",
            "|50|-->|40|-->|30|-->|20|-->|10|-->\n"
          ]
        }
      ]
    },
    {
      "cell_type": "code",
      "metadata": {
        "id": "AXYaIrFZ85Qm"
      },
      "source": [
        "class DoubleLinkedList:\n",
        "    def __init__( self ):\n",
        "        self.had = None\n",
        "        self.tail = None\n",
        "        self.size = 0\n",
        "\n",
        "    def get_size( self ):\n",
        "        return self.size\n",
        "\n",
        "    def is_empty( self ):\n",
        "        return self.size == 0\n",
        "\n",
        "    def append( self , value ):\n",
        "        if self.is_empty():\n",
        "            self.head = NodoDoble( value )\n",
        "            self.tail = self.head        \n",
        "        else:\n",
        "            self.tail.next = NodoDoble( value , None , tail)\n",
        "            self.tail = self.tail.next\n",
        "        self.size += 1\n",
        "\n",
        "    def transversal( self ):\n",
        "        curr_node = self.head\n",
        "        while curr_node != None:\n",
        "            print(f\"|{curr_node.data}| --> \" , end= \"\" )\n",
        "            curr_node = curr_node.next\n",
        "        print(\"\")               \n",
        "\n",
        "    def remov_from_tail( self , value ):\n",
        "        curr_node = self.head\n",
        "        while curr_node.data != value:\n",
        "            curr_node = curr_node.next\n",
        "        if curr_node.data == value:\n",
        "            curr_node.prev.next = curr_node.next\n",
        "            curr_node.next.prev = curr_node.prev\n",
        "        self.size -= 1             "
      ],
      "execution_count": null,
      "outputs": []
    },
    {
      "cell_type": "code",
      "metadata": {
        "colab": {
          "base_uri": "https://localhost:8080/"
        },
        "id": "R2sNUGe3_z79",
        "outputId": "24266f01-7cad-4a5c-8abe-3b7f0c3eaa9a"
      },
      "source": [
        "ldl = DoubleLinkedList()\n",
        "ldl.append(10)\n",
        "ldl.append(20)\n",
        "ldl.append(30)\n",
        "ldl.append(40)\n",
        "ldl.transversal()\n",
        "ldl.remov_from_tail(30)"
      ],
      "execution_count": null,
      "outputs": [
        {
          "output_type": "stream",
          "name": "stdout",
          "text": [
            "|10| --> |20| --> |30| --> |40| --> \n"
          ]
        }
      ]
    }
  ]
}