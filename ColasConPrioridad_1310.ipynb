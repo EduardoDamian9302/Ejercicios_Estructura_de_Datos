{
  "nbformat": 4,
  "nbformat_minor": 0,
  "metadata": {
    "colab": {
      "name": "ColasConPrioridad_1310.ipynb",
      "provenance": [],
      "authorship_tag": "ABX9TyMqpISDj3F6xTmfDs5fb+FV",
      "include_colab_link": true
    },
    "kernelspec": {
      "name": "python3",
      "display_name": "Python 3"
    },
    "language_info": {
      "name": "python"
    }
  },
  "cells": [
    {
      "cell_type": "markdown",
      "metadata": {
        "id": "view-in-github",
        "colab_type": "text"
      },
      "source": [
        "<a href=\"https://colab.research.google.com/github/EduardoDamian9302/Ejercicios_Estructura_de_Datos/blob/main/ColasConPrioridad_1310.ipynb\" target=\"_parent\"><img src=\"https://colab.research.google.com/assets/colab-badge.svg\" alt=\"Open In Colab\"/></a>"
      ]
    },
    {
      "cell_type": "code",
      "metadata": {
        "id": "DEToVcoDO0ip"
      },
      "source": [
        "class Queue:\n",
        "    def __init__( self):\n",
        "        self.data = []\n",
        "\n",
        "    def is_empty( self ):\n",
        "        return len( self.data ) == 0\n",
        "\n",
        "    def length( self ):\n",
        "        return len( self.data)\n",
        "    \n",
        "    def enqueue( self  , value ):\n",
        "        self.data.append( value )\n",
        "\n",
        "    def dequeue( self ):\n",
        "        return self.data.pop(0)\n",
        "\n",
        "    def to_string( self ):\n",
        "        for elem in self.data:\n",
        "            print(f\"|{ elem }| <-- \" , end=\"\" )\n",
        "        print(\"\")"
      ],
      "execution_count": 8,
      "outputs": []
    },
    {
      "cell_type": "code",
      "metadata": {
        "id": "7u6EBD0cETHh"
      },
      "source": [
        "class BoundedPriorityQueue:\n",
        "    def __init__(self , niveles):\n",
        "        self.__data = [ Queue() for x in range(niveles)]\n",
        "        #self.__data = Array(niveles)\n",
        "        #self.__data.clear( Queue() )\n",
        "        self.__size = 0\n",
        "\n",
        "    def is_empty( self ):\n",
        "        return self.__size == 0\n",
        "\n",
        "    def length( self ):\n",
        "        return self.__size\n",
        "\n",
        "    def enqueue( self , prioridad , elem ):\n",
        "        if prioridad < len( self.__data ) \\\n",
        "            and prioridad >= 0:\n",
        "            self.__data[ prioridad ].enqueue( elem )\n",
        "            self.__size += 1\n",
        "\n",
        "    def dequeue( self ):\n",
        "        nivel = 0\n",
        "        while self.__data[nivel].is_empty() \\\n",
        "            and nivel < self.length():\n",
        "            nivel += 1\n",
        "\n",
        "        if nivel >= self.length():\n",
        "            print(\"Cola está vacía\")\n",
        "        else:\n",
        "            return self.__data[ nivel ].dequeue()\n",
        "\n",
        "    def to_string( self ):\n",
        "        prioridad = 0\n",
        "        for cola in self.__data:\n",
        "            print(f\"Prioridad {prioridad} ->\" , end=\"\")\n",
        "            cola.to_string()                \n",
        "            prioridad += 1 "
      ],
      "execution_count": 18,
      "outputs": []
    },
    {
      "cell_type": "code",
      "metadata": {
        "colab": {
          "base_uri": "https://localhost:8080/"
        },
        "id": "5uE2dRBjMnbu",
        "outputId": "b84e4781-0755-45d6-cfdf-6b8a5fea1b86"
      },
      "source": [
        "#Prueba de la cola con prioridad\n",
        "salvavidas = BoundedPriorityQueue( 7 )\n",
        "salvavidas.enqueue( 4 , \"Maestre\" )\n",
        "salvavidas.enqueue( 1 , \"Niños\" )\n",
        "salvavidas.enqueue( 4 , \"Mecanico\")\n",
        "salvavidas.enqueue( 3 , \"Mujeres\")\n",
        "salvavidas.enqueue( 2 , \"Tercera Edad\")\n",
        "salvavidas.enqueue( 1 , \"Niñas\" )\n",
        "salvavidas.enqueue( 4 , \"Hombres\")\n",
        "salvavidas.enqueue( 4 , \"Vigia\")\n",
        "salvavidas.enqueue( 5 , \"Capitan\")\n",
        "salvavidas.enqueue( 4 , \"Timonel\")\n",
        "salvavidas.to_string()\n",
        "sig = salvavidas.dequeue()\n",
        "print(f\"Subiendo {sig} al bote salvavidas!!\")\n",
        "salvavidas.to_string()"
      ],
      "execution_count": 21,
      "outputs": [
        {
          "output_type": "stream",
          "name": "stdout",
          "text": [
            "Prioridad 0 ->\n",
            "Prioridad 1 ->|Niños| <-- |Niñas| <-- \n",
            "Prioridad 2 ->|Tercera Edad| <-- \n",
            "Prioridad 3 ->|Mujeres| <-- \n",
            "Prioridad 4 ->|Maestre| <-- |Mecanico| <-- |Hombres| <-- |Vigia| <-- |Timonel| <-- \n",
            "Prioridad 5 ->|Capitan| <-- \n",
            "Prioridad 6 ->\n",
            "Subiendo Niños al bote salvavidas!!\n",
            "Prioridad 0 ->\n",
            "Prioridad 1 ->|Niñas| <-- \n",
            "Prioridad 2 ->|Tercera Edad| <-- \n",
            "Prioridad 3 ->|Mujeres| <-- \n",
            "Prioridad 4 ->|Maestre| <-- |Mecanico| <-- |Hombres| <-- |Vigia| <-- |Timonel| <-- \n",
            "Prioridad 5 ->|Capitan| <-- \n",
            "Prioridad 6 ->\n"
          ]
        }
      ]
    },
    {
      "cell_type": "code",
      "metadata": {
        "id": "bL8_DDsYR0mv"
      },
      "source": [
        "#Implementacion de las colas de prioridad sin acotamiento\n",
        "\n",
        "class PriorityQueue:\n",
        "    def __init__( self ):\n",
        "        self.__data = []\n",
        "        self.__size = 0\n",
        "\n",
        "    def is_empty( self ):\n",
        "        return self.__size == 0\n",
        "\n",
        "    def length( self ):\n",
        "        return self.__size\n",
        "\n",
        "\n",
        "    def enqueue(self , prioridad , elem ):\n",
        "        existe = False\n",
        "        indice = 0\n",
        "        for index in range(len(self.__data)):\n",
        "            if self.__data[index][ \"prioridad\" ] == prioridad:\n",
        "                existe = True\n",
        "                indice = index\n",
        "        \n",
        "        if existe:\n",
        "            self.__data[indice][\"cola\"].enqueue(elem)\n",
        "        else:\n",
        "            self.__data.append( {\"prioridad\":prioridad , \"cola\": Queue() } )\n",
        "            self.__data[-1][\"cola\"].enqueue(elem)\n",
        "\n",
        "    def to_string( self ):\n",
        "        for cola in self.__data:\n",
        "            cola[\"cola\"].to_string()                            "
      ],
      "execution_count": 23,
      "outputs": []
    },
    {
      "cell_type": "code",
      "metadata": {
        "colab": {
          "base_uri": "https://localhost:8080/"
        },
        "id": "bwwbkC58WdI9",
        "outputId": "c506a5f1-a849-4cbe-aede-7274aa58f15b"
      },
      "source": [
        "cp = PriorityQueue()\n",
        "cp.enqueue(1 , \"niñas\")\n",
        "cp.enqueue(2 , \"niños\")\n",
        "cp.enqueue(2,\"Profesores\")\n",
        "cp.to_string()"
      ],
      "execution_count": 25,
      "outputs": [
        {
          "output_type": "stream",
          "name": "stdout",
          "text": [
            "|niñas| <-- \n",
            "|niños| <-- |Profesores| <-- \n"
          ]
        }
      ]
    }
  ]
}