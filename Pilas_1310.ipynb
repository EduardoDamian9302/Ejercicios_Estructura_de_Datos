{
  "nbformat": 4,
  "nbformat_minor": 0,
  "metadata": {
    "colab": {
      "name": "Pilas_1310.ipynb",
      "provenance": [],
      "authorship_tag": "ABX9TyMWIQyoFa3zhZL4LDsLTJ4j",
      "include_colab_link": true
    },
    "kernelspec": {
      "name": "python3",
      "display_name": "Python 3"
    },
    "language_info": {
      "name": "python"
    }
  },
  "cells": [
    {
      "cell_type": "markdown",
      "metadata": {
        "id": "view-in-github",
        "colab_type": "text"
      },
      "source": [
        "<a href=\"https://colab.research.google.com/github/EduardoDamian9302/Ejercicios_Estructura_de_Datos/blob/main/Pilas_1310.ipynb\" target=\"_parent\"><img src=\"https://colab.research.google.com/assets/colab-badge.svg\" alt=\"Open In Colab\"/></a>"
      ]
    },
    {
      "cell_type": "code",
      "metadata": {
        "id": "8ddrJVNNMubg"
      },
      "source": [
        "class StackADT:\n",
        "    def __init__( self ):\n",
        "        self.__data = list()\n",
        "\n",
        "    def is_empty( self ):\n",
        "        return len( self.__data ) == 0\n",
        "\n",
        "    def get_length( self ):\n",
        "        return len(self.__data )\n",
        "\n",
        "    def pop( self ):\n",
        "        if self.is_empty():\n",
        "            print(\"Pila vacia, nada que sacar\")\n",
        "        else:\n",
        "            return self.__data.pop()\n",
        "\n",
        "    def peek( self ):\n",
        "        if self.is_empty():\n",
        "            print(\"Pila vacia, nda que sacar\")\n",
        "        else:\n",
        "            return self.__data[ -1 ]\n",
        "\n",
        "    def push( self , value ):\n",
        "        self.__data.append( value )\n",
        "\n",
        "    def to_string( self ):\n",
        "        for item in self.__data[ ::-1]:\n",
        "            print(f\"| { item } | \")                                         "
      ],
      "execution_count": 2,
      "outputs": []
    },
    {
      "cell_type": "code",
      "metadata": {
        "colab": {
          "base_uri": "https://localhost:8080/"
        },
        "id": "U8zoHRgOQeOE",
        "outputId": "39c93eaa-b10c-47a2-a3ec-a2eeb224f68a"
      },
      "source": [
        "pila = StackADT()\n",
        "print(\"Esta vacia? =\" , pila.is_empty() )\n",
        "print(\"# elementos:\" , pila.get_length() )\n",
        "pila.push(10)\n",
        "print(\"Esta vacia? =\" , pila.is_empty() )\n",
        "print(\"# elementos:\" , pila.get_length() )\n",
        "pila.push(20)\n",
        "pila.push(30)\n",
        "pila.push(40)\n",
        "pila.to_string()\n",
        "print(pila.pop() )\n",
        "print(pila.peek())\n",
        "pila.to_string()"
      ],
      "execution_count": null,
      "outputs": [
        {
          "output_type": "stream",
          "name": "stdout",
          "text": [
            "Esta vacia? = True\n",
            "# elementos: 0\n",
            "Esta vacia? = False\n",
            "# elementos: 1\n",
            "| 40 | \n",
            "| 30 | \n",
            "| 20 | \n",
            "| 10 | \n",
            "40\n",
            "30\n",
            "| 30 | \n",
            "| 20 | \n",
            "| 10 | \n"
          ]
        }
      ]
    },
    {
      "cell_type": "code",
      "metadata": {
        "colab": {
          "base_uri": "https://localhost:8080/"
        },
        "id": "hFAmqUa2zcNn",
        "outputId": "ba67786f-a56e-46fd-cbf4-6ac3791d9b29"
      },
      "source": [
        "entrada = open('prog.txt' , 'rt')\n",
        "codigo = entrada.read()\n",
        "pilaControl = StackADT()\n",
        "pilaControl.push(\"#\")\n",
        "\n",
        "for letra in codigo:\n",
        "    #print(f\"--> { letra } <--\")\n",
        "    if letra == '{':\n",
        "        pilaControl.push(\"{\")\n",
        "    elif letra == '}':\n",
        "        basura = pilaControl.pop()\n",
        "    else:\n",
        "        pass\n",
        "\n",
        "if pilaControl.peek() == '#':\n",
        "    print(\"El codigo proporcionado esta correctamente balanceado\")\n",
        "else:\n",
        "    print(\"El codigo no esta balanceado en llaves { y } \")                    "
      ],
      "execution_count": 4,
      "outputs": [
        {
          "output_type": "stream",
          "name": "stdout",
          "text": [
            "El codigo proporcionado esta correctamente balanceado\n"
          ]
        }
      ]
    }
  ]
}