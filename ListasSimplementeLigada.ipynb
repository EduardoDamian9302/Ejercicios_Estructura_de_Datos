{
  "nbformat": 4,
  "nbformat_minor": 0,
  "metadata": {
    "colab": {
      "name": "ListasSimplementeLigada.ipynb",
      "provenance": [],
      "authorship_tag": "ABX9TyNxSmo+E4A5p5hmfjYzilyb",
      "include_colab_link": true
    },
    "kernelspec": {
      "name": "python3",
      "display_name": "Python 3"
    },
    "language_info": {
      "name": "python"
    }
  },
  "cells": [
    {
      "cell_type": "markdown",
      "metadata": {
        "id": "view-in-github",
        "colab_type": "text"
      },
      "source": [
        "<a href=\"https://colab.research.google.com/github/EduardoDamian9302/Ejercicios_Estructura_de_Datos/blob/main/ListasSimplementeLigada.ipynb\" target=\"_parent\"><img src=\"https://colab.research.google.com/assets/colab-badge.svg\" alt=\"Open In Colab\"/></a>"
      ]
    },
    {
      "cell_type": "code",
      "metadata": {
        "id": "hF6gaOaIsF4N"
      },
      "source": [
        "class Nodo:\n",
        "    def __init__( self , valor , siguiente = None ):\n",
        "        self.data = valor\n",
        "        self.next = siguiente"
      ],
      "execution_count": 1,
      "outputs": []
    },
    {
      "cell_type": "code",
      "metadata": {
        "id": "HBk2oOn2tQ2s"
      },
      "source": [
        "class LinkedList:\n",
        "    def __init__( self ):\n",
        "        self.head = None\n",
        "\n",
        "    def is_empty( self ):\n",
        "        return self.head == None\n",
        "\n",
        "    def get_tail( self ):\n",
        "        if self.is_empty():\n",
        "            return None\n",
        "        else:     \n",
        "            curr_node = self.head\n",
        "            while curr_node.next != None:\n",
        "                curr_node = curr_node.next\n",
        "            return curr_node\n",
        "\n",
        "    def append( self , value ):\n",
        "        if self.head == None:\n",
        "            self.head = Nodo( value)\n",
        "        else:\n",
        "            curr_node = self.head\n",
        "            while curr_node.next != None:\n",
        "                curr_node = curr_node.next\n",
        "            curr_node.next = Nodo(value)\n",
        "\n",
        "    def transversal( self ):\n",
        "        curr_node = self.head\n",
        "        while curr_node != None:\n",
        "            print(f\"| { curr_node.data } | -->\" , end=\"\")\n",
        "            curr_node = curr_node.next\n",
        "        print(\"\")\n",
        "\n",
        "    def remove( self , value ):\n",
        "        if self.is_empty():\n",
        "            print(\"lista vacia, no se puede remover nada\")\n",
        "        else:\n",
        "            curr_node = self.head\n",
        "            aux = None\n",
        "            while curr_node.data != value:\n",
        "                aux = curr_node\n",
        "                curr_node = curr_node.next\n",
        "            if curr_node != None:\n",
        "                aux.next = curr_node.next\n",
        "                curr_node = None    \n",
        "\n",
        "    def preppend( self , value ):\n",
        "        if self.head == None:\n",
        "            print(\"Esta vacio , no se puede hacer preppend\")\n",
        "        else:\n",
        "            self.head = Nodo( value , self.head )\n",
        "\n",
        "    def pop_first( self ):\n",
        "        if self.is_empty():\n",
        "          print(\"Esta vacio , no se puede hacer pop\")\n",
        "        else:\n",
        "            popped_nodo = self.head\n",
        "            self.head = self.head.next\n",
        "            popped_nodo.next = None\n",
        "            return popped_nodo.data\n",
        "\n",
        "    def pop( self ):\n",
        "        if self.is_empty():\n",
        "           print(\"Esta vacio , no se puede hacer pop\")\n",
        "        else:\n",
        "            curr_node = self.head\n",
        "            aux = None\n",
        "            while curr_node.next != None:\n",
        "                aux = curr_node\n",
        "                curr_node = curr_node.next\n",
        "            popped_nodo = curr_node\n",
        "            aux.next = curr_node.next\n",
        "            curr_node = None\n",
        "            return popped_nodo.data    \n",
        "            "
      ],
      "execution_count": 2,
      "outputs": []
    },
    {
      "cell_type": "code",
      "metadata": {
        "colab": {
          "base_uri": "https://localhost:8080/"
        },
        "id": "gQToa9UCtZg7",
        "outputId": "8b46402c-02d1-448d-ed85-3bd3bc1cac6a"
      },
      "source": [
        "lista = LinkedList()\n",
        "if lista.is_empty():\n",
        "    print(\"La lista esta vacia\")\n",
        "else:\n",
        "    print(\"La lista no esta vacia\")\n",
        "\n",
        "lista.append(10)\n",
        "lista.append(20)\n",
        "lista.append(30)\n",
        "lista.append(40)\n",
        "lista.append(50)\n",
        "\n",
        "nodo = lista.get_tail()\n",
        "if nodo != None:\n",
        "    print(nodo.data)\n",
        "else:\n",
        "    print(\"Lista esta vacia\")\n",
        "\n",
        "lista.transversal()\n",
        "lista.remove(30)\n",
        "lista.transversal()\n",
        "lista.preppend(5)\n",
        "lista.transversal()\n",
        "print(\"------------Pop-----------\")\n",
        "lista.pop()\n",
        "lista.transversal()              \n",
        "lista.pop_first()\n",
        "lista.transversal()              "
      ],
      "execution_count": 3,
      "outputs": [
        {
          "output_type": "stream",
          "name": "stdout",
          "text": [
            "La lista esta vacia\n",
            "50\n",
            "| 10 | -->| 20 | -->| 30 | -->| 40 | -->| 50 | -->\n",
            "| 10 | -->| 20 | -->| 40 | -->| 50 | -->\n",
            "| 5 | -->| 10 | -->| 20 | -->| 40 | -->| 50 | -->\n",
            "------------Pop-----------\n",
            "| 5 | -->| 10 | -->| 20 | -->| 40 | -->\n",
            "| 10 | -->| 20 | -->| 40 | -->\n"
          ]
        }
      ]
    }
  ]
}