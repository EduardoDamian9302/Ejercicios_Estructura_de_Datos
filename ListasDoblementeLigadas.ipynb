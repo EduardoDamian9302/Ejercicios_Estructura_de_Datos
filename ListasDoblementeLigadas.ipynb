{
  "nbformat": 4,
  "nbformat_minor": 0,
  "metadata": {
    "colab": {
      "name": "ListasDoblementeLigadas.ipynb",
      "provenance": [],
      "authorship_tag": "ABX9TyN/Y6uyDddZdKX49NdHerUi",
      "include_colab_link": true
    },
    "kernelspec": {
      "name": "python3",
      "display_name": "Python 3"
    },
    "language_info": {
      "name": "python"
    }
  },
  "cells": [
    {
      "cell_type": "markdown",
      "metadata": {
        "id": "view-in-github",
        "colab_type": "text"
      },
      "source": [
        "<a href=\"https://colab.research.google.com/github/EduardoDamian9302/Ejercicios_Estructura_de_Datos/blob/main/ListasDoblementeLigadas.ipynb\" target=\"_parent\"><img src=\"https://colab.research.google.com/assets/colab-badge.svg\" alt=\"Open In Colab\"/></a>"
      ]
    },
    {
      "cell_type": "code",
      "metadata": {
        "id": "bF6VbiT2qqzq"
      },
      "source": [
        "class NodoDoble:\n",
        "    def __init__( self , value , siguiente=None , previo=None ):\n",
        "        self.data = value\n",
        "        self.next = siguiente\n",
        "        self.prev = previo"
      ],
      "execution_count": 1,
      "outputs": []
    },
    {
      "cell_type": "code",
      "metadata": {
        "id": "VGywX5Wtq7G_"
      },
      "source": [
        "class DoubleLinkedList:\n",
        "    def __init__( self ):\n",
        "        self.head = None\n",
        "        self.tail = None\n",
        "        self.size = 0\n",
        "\n",
        "    def get_size( self ):\n",
        "        return self.size\n",
        "\n",
        "    def is_empty( self ):\n",
        "        return self.size == 0\n",
        "\n",
        "    def append( self , value ):\n",
        "        if self.is_empty():\n",
        "            self.head = NodoDoble( value )\n",
        "            self.tail = self.head        \n",
        "        else:\n",
        "            self.tail.next = NodoDoble( value , None , self.tail)\n",
        "            self.tail = self.tail.next\n",
        "        self.size += 1\n",
        "\n",
        "    def transversal( self ):\n",
        "        curr_node = self.head\n",
        "        while curr_node != None:\n",
        "            print(f\"|{curr_node.data}| --> \" , end= \"\" )\n",
        "            curr_node = curr_node.next\n",
        "        print(\"\")               \n",
        "\n",
        "    def remove_from_tail( self , value ):\n",
        "        curr_node = self.tail\n",
        "        while curr_node.data != value:\n",
        "            curr_node = curr_node.prev\n",
        "        if curr_node.data == value:\n",
        "            curr_node.prev.next = curr_node.next\n",
        "            curr_node.next.prev = curr_node.prev\n",
        "        self.size -= 1\n",
        "\n",
        "    def remove_from_head( self , value ):\n",
        "        curr_node = self.head\n",
        "        while curr_node.data != value:\n",
        "            curr_node = curr_node.next\n",
        "        if curr_node.data == value:\n",
        "            curr_node.prev.next = curr_node.next\n",
        "            curr_node.next.prev = curr_node.prev\n",
        "        self.size -= 1\n",
        "\n",
        "    def reverse_transversal( self ):\n",
        "        curr_node = self.tail\n",
        "        while curr_node != None:\n",
        "            print(f\"|{curr_node.data}|-->\", end=\"\")\n",
        "            curr_node = curr_node.prev\n",
        "        print(\"\")\n",
        "\n",
        "    def find_from_tail( self , value ):\n",
        "        curr_node = self.tail\n",
        "        contador = 0\n",
        "        while curr_node.data != value:\n",
        "            curr_node = curr_node.prev\n",
        "            contador += 1\n",
        "        contador = self.size - contador        \n",
        "        print(f\"Posicion del elemento {value}: \" + str(contador) )     \n",
        "\n",
        "    def find_from_head( self , value ):\n",
        "        curr_node = self.head\n",
        "        contador = 1\n",
        "        while curr_node.data != value:\n",
        "            curr_node = curr_node.next\n",
        "            contador += 1\n",
        "        print(f\"Posiscion del elemento {value}: \" + str(contador))    \n"
      ],
      "execution_count": 2,
      "outputs": []
    },
    {
      "cell_type": "code",
      "metadata": {
        "colab": {
          "base_uri": "https://localhost:8080/"
        },
        "id": "ofPdy55eravF",
        "outputId": "944f51ca-dd7e-4449-fb6b-4be1092a3ec0"
      },
      "source": [
        "ldl = DoubleLinkedList()\n",
        "ldl.append(10)\n",
        "ldl.append(20)\n",
        "ldl.append(30)\n",
        "ldl.append(40)\n",
        "ldl.transversal()\n",
        "print(\"---------------Find---------\")\n",
        "ldl.find_from_tail(10)\n",
        "ldl.find_from_head(40)\n",
        "print(\"----------Remove------------\")\n",
        "ldl.transversal()\n",
        "ldl.remove_from_tail(30)\n",
        "ldl.transversal()\n",
        "ldl.remove_from_head(20)\n",
        "ldl.transversal()\n",
        "print(\"---------Reverse Transversal--------\")\n",
        "ldl.reverse_transversal()"
      ],
      "execution_count": 4,
      "outputs": [
        {
          "output_type": "stream",
          "name": "stdout",
          "text": [
            "|10| --> |20| --> |30| --> |40| --> \n",
            "---------------Find---------\n",
            "Posicion del elemento 10: 1\n",
            "Posiscion del elemento 40: 4\n",
            "----------Remove------------\n",
            "|10| --> |20| --> |30| --> |40| --> \n",
            "|10| --> |20| --> |40| --> \n",
            "|10| --> |40| --> \n",
            "---------Reverse Transversal--------\n",
            "|40|-->|10|-->\n"
          ]
        }
      ]
    }
  ]
}