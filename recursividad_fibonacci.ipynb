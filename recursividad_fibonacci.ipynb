{
  "nbformat": 4,
  "nbformat_minor": 0,
  "metadata": {
    "colab": {
      "name": "recursividad_fibonacci.ipynb",
      "provenance": [],
      "authorship_tag": "ABX9TyPKdQpfHhh6BNwcIm+i+9nD",
      "include_colab_link": true
    },
    "kernelspec": {
      "name": "python3",
      "display_name": "Python 3"
    },
    "language_info": {
      "name": "python"
    }
  },
  "cells": [
    {
      "cell_type": "markdown",
      "metadata": {
        "id": "view-in-github",
        "colab_type": "text"
      },
      "source": [
        "<a href=\"https://colab.research.google.com/github/EduardoDamian9302/Ejercicios_Estructura_de_Datos/blob/main/recursividad_fibonacci.ipynb\" target=\"_parent\"><img src=\"https://colab.research.google.com/assets/colab-badge.svg\" alt=\"Open In Colab\"/></a>"
      ]
    },
    {
      "cell_type": "code",
      "metadata": {
        "id": "v6mcXTJ0_KQE"
      },
      "source": [
        "def fib(n):\n",
        " if n < 2:\n",
        "    return n    \n",
        " else:    \n",
        "    return fib(n-1) + fib(n-2)"
      ],
      "execution_count": 33,
      "outputs": []
    },
    {
      "cell_type": "code",
      "metadata": {
        "id": "9iFg3kEokKZD"
      },
      "source": [
        "for x in range(10):\n",
        "    print(fib(x))"
      ],
      "execution_count": null,
      "outputs": []
    }
  ]
}