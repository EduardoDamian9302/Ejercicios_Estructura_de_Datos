{
  "nbformat": 4,
  "nbformat_minor": 0,
  "metadata": {
    "colab": {
      "name": "recursividad_fibonacci.ipynb",
      "provenance": [],
      "authorship_tag": "ABX9TyMWWHFBYcstF52j97J8LnPs",
      "include_colab_link": true
    },
    "kernelspec": {
      "name": "python3",
      "display_name": "Python 3"
    },
    "language_info": {
      "name": "python"
    }
  },
  "cells": [
    {
      "cell_type": "markdown",
      "metadata": {
        "id": "view-in-github",
        "colab_type": "text"
      },
      "source": [
        "<a href=\"https://colab.research.google.com/github/EduardoDamian9302/Ejercicios_Estructura_de_Datos/blob/main/recursividad_fibonacci.ipynb\" target=\"_parent\"><img src=\"https://colab.research.google.com/assets/colab-badge.svg\" alt=\"Open In Colab\"/></a>"
      ]
    },
    {
      "cell_type": "code",
      "metadata": {
        "id": "v6mcXTJ0_KQE"
      },
      "source": [
        "def fib(n):\n",
        " if n < 2:\n",
        "    return n\n",
        "    print(n)    \n",
        " else:    \n",
        "    return fib(n-1) + fib(n-2)\n",
        "    print(n)"
      ],
      "execution_count": 34,
      "outputs": []
    },
    {
      "cell_type": "code",
      "metadata": {
        "colab": {
          "base_uri": "https://localhost:8080/"
        },
        "id": "9iFg3kEokKZD",
        "outputId": "5e8d6230-a2ed-4019-d913-e9360beaa939"
      },
      "source": [
        "for x in range(10):\n",
        "    print(fib(x))"
      ],
      "execution_count": 36,
      "outputs": [
        {
          "output_type": "stream",
          "name": "stdout",
          "text": [
            "0\n",
            "1\n",
            "1\n",
            "2\n",
            "3\n",
            "5\n",
            "8\n",
            "13\n",
            "21\n",
            "34\n"
          ]
        }
      ]
    },
    {
      "cell_type": "code",
      "metadata": {
        "colab": {
          "base_uri": "https://localhost:8080/"
        },
        "id": "AQI_nTwTshBr",
        "outputId": "a25719b1-f722-4514-e5b7-4f8c88584826"
      },
      "source": [
        "fib(9)"
      ],
      "execution_count": 37,
      "outputs": [
        {
          "output_type": "execute_result",
          "data": {
            "text/plain": [
              "34"
            ]
          },
          "metadata": {},
          "execution_count": 37
        }
      ]
    }
  ]
}